{
 "cells": [
  {
   "cell_type": "code",
   "execution_count": 56,
   "id": "f7b9bcb6-6f47-46a8-80fb-739df621914e",
   "metadata": {},
   "outputs": [
    {
     "name": "stdout",
     "output_type": "stream",
     "text": [
      "\n",
      "qwertyuiop\n"
     ]
    }
   ],
   "source": [
    "file= open(\"untitled.txt\",'r')\n",
    "print(file.read())\n",
    "file.close()"
   ]
  },
  {
   "cell_type": "code",
   "execution_count": 57,
   "id": "7491591e-8d37-4e39-a6c1-5cf60b9a25dc",
   "metadata": {},
   "outputs": [
    {
     "name": "stdin",
     "output_type": "stream",
     "text": [
      "Enter text you want to enter:  asdfg\n"
     ]
    },
    {
     "name": "stdout",
     "output_type": "stream",
     "text": [
      "\n",
      "asdfgyuiop\n"
     ]
    }
   ],
   "source": [
    "with open(\"untitled.txt\", \"r+\") as file:\n",
    "    text = input(\"Enter text you want to enter: \")\n",
    "    file.write(\"\\n\" + text)\n",
    "    file.seek(0)           \n",
    "    print(file.read())\n"
   ]
  },
  {
   "cell_type": "code",
   "execution_count": 26,
   "id": "12cad54a-b2e8-432e-91e1-7d34cbc6adbf",
   "metadata": {},
   "outputs": [
    {
     "name": "stdout",
     "output_type": "stream",
     "text": [
      "File does not exist\n"
     ]
    }
   ],
   "source": [
    "try:\n",
    "    with open(\"sample.txt\", \"r\") as file:\n",
    "        print(file.read())\n",
    "except FileNotFoundError:\n",
    "    print(\"File does not exist\")"
   ]
  },
  {
   "cell_type": "code",
   "execution_count": 27,
   "id": "948393ef-3235-4d65-b7cf-68db541e5a55",
   "metadata": {},
   "outputs": [
    {
     "name": "stdout",
     "output_type": "stream",
     "text": [
      "File not found.\n"
     ]
    }
   ],
   "source": [
    "from pathlib import Path\n",
    "\n",
    "file_path = Path(\"sample.txt\")\n",
    "\n",
    "if file_path.is_file():\n",
    "    with open(file_path, \"r\") as file:\n",
    "        print(file.read())\n",
    "else:\n",
    "    print(\"File not found.\")\n"
   ]
  },
  {
   "cell_type": "code",
   "execution_count": 55,
   "id": "49d2f88d-b4ff-484b-b05e-9f1ae5a0972a",
   "metadata": {},
   "outputs": [
    {
     "name": "stdin",
     "output_type": "stream",
     "text": [
      "enter data you want to appent: learning file handling with python\n"
     ]
    },
    {
     "name": "stdout",
     "output_type": "stream",
     "text": [
      "Data appended\n",
      "final output\n",
      "Hello, World!\n",
      "learning file handling with python\n"
     ]
    }
   ],
   "source": [
    "with open(\"sample.txt\", \"w\") as file:\n",
    "    file.write(\"Hello, World!\")  \n",
    "with open('sample.txt','a+') as file:\n",
    "    n=input('enter data you want to appent:')\n",
    "    file.write('\\n'+n)\n",
    "    print('Data appended')\n",
    "with open('sample.txt','r') as file:\n",
    "    print('final output')\n",
    "    print(file.read())"
   ]
  },
  {
   "cell_type": "code",
   "execution_count": null,
   "id": "11913227-4193-4fb9-a099-0ae80ff4c6e9",
   "metadata": {},
   "outputs": [],
   "source": []
  },
  {
   "cell_type": "code",
   "execution_count": null,
   "id": "989f0efc-0dc3-4697-ac84-5250a0b6f312",
   "metadata": {},
   "outputs": [],
   "source": []
  },
  {
   "cell_type": "code",
   "execution_count": null,
   "id": "d89481c4-de7a-4362-9251-d2c14b04b3a0",
   "metadata": {},
   "outputs": [],
   "source": []
  }
 ],
 "metadata": {
  "kernelspec": {
   "display_name": "Python 3 (ipykernel)",
   "language": "python",
   "name": "python3"
  },
  "language_info": {
   "codemirror_mode": {
    "name": "ipython",
    "version": 3
   },
   "file_extension": ".py",
   "mimetype": "text/x-python",
   "name": "python",
   "nbconvert_exporter": "python",
   "pygments_lexer": "ipython3",
   "version": "3.11.13"
  }
 },
 "nbformat": 4,
 "nbformat_minor": 5
}
